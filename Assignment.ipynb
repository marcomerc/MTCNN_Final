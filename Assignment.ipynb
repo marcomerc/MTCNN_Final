{
  "nbformat": 4,
  "nbformat_minor": 0,
  "metadata": {
    "colab": {
      "name": "Assignment.ipynb",
      "version": "0.3.2",
      "provenance": [],
      "collapsed_sections": []
    },
    "kernelspec": {
      "name": "python3",
      "display_name": "Python 3"
    }
  },
  "cells": [
    {
      "cell_type": "code",
      "metadata": {
        "id": "mrok7QeFxnyI",
        "colab_type": "code",
        "outputId": "d0e11656-0edf-4750-eeef-b2d57b50e60a",
        "colab": {
          "base_uri": "https://localhost:8080/",
          "height": 97
        }
      },
      "source": [
        "!git clone https://github.com/marcomerc/mtcnn.git\n",
        "!ls\n",
        "!pip install numpy==1.15\n"
      ],
      "execution_count": 1,
      "outputs": [
        {
          "output_type": "stream",
          "text": [
            "fatal: destination path 'mtcnn' already exists and is not an empty directory.\n",
            "mtcnn  sample_data\n",
            "Requirement already satisfied: numpy==1.15 in /usr/local/lib/python3.6/dist-packages (1.15.0)\n"
          ],
          "name": "stdout"
        }
      ]
    },
    {
      "cell_type": "code",
      "metadata": {
        "id": "lcjMwQ69x-am",
        "colab_type": "code",
        "colab": {}
      },
      "source": [
        "%cd mtcnn\n",
        "!git checkout test\n"
      ],
      "execution_count": 0,
      "outputs": []
    },
    {
      "cell_type": "markdown",
      "metadata": {
        "id": "e1sEwJGMSaNj",
        "colab_type": "text"
      },
      "source": [
        "**Upload a picture into the CONTENT/MTCNN DIRECTORY THAT IS NAME \"test1.jpg\"  AND THE RESULT WILL BE STORE AS result.jpg next run the next cell**"
      ]
    },
    {
      "cell_type": "code",
      "metadata": {
        "id": "rpuC-GwkyPvV",
        "colab_type": "code",
        "outputId": "4ad2e131-1788-4801-eab2-b293ddd9ffd8",
        "colab": {
          "base_uri": "https://localhost:8080/",
          "height": 114
        }
      },
      "source": [
        "\n",
        "!python example.py\n",
        "!ls\n",
        "%cp test1.jpg ./otherModel"
      ],
      "execution_count": 15,
      "outputs": [
        {
          "output_type": "stream",
          "text": [
            "python3: can't open file 'example.py': [Errno 2] No such file or directory\n",
            "images\t     mtcnn.py\t   pretrained\tresult.jpg  test1.jpg\n",
            "__init__.py  otherModel    __pycache__\tsave_model  test_img.py\n",
            "LICENSE.md   prepare_data  README.md\tsrc\t    tools.py\n"
          ],
          "name": "stdout"
        }
      ]
    },
    {
      "cell_type": "code",
      "metadata": {
        "id": "wWSQNHwn8Uu_",
        "colab_type": "code",
        "outputId": "d41c11e0-ebd2-4b25-d80c-a27f79f3e2e7",
        "colab": {
          "base_uri": "https://localhost:8080/",
          "height": 603
        }
      },
      "source": [
        "%cd otherModel\n",
        "!ls\n",
        "!python test_img.py test1.jpg --model_dir ./save_model/all_in_one/"
      ],
      "execution_count": 13,
      "outputs": [
        {
          "output_type": "stream",
          "text": [
            "[Errno 2] No such file or directory: 'otherModel'\n",
            "/content/mtcnn/otherModel\n",
            "images\t     mtcnn.py\t   __pycache__\tsave_model  test_img.py\n",
            "__init__.py  prepare_data  README.md\tsrc\t    tools.py\n",
            "LICENSE.md   pretrained    result.jpg\ttest1.jpg\n",
            "remote: Enumerating objects: 7, done.\u001b[K\n",
            "remote: Counting objects: 100% (7/7), done.\u001b[K\n",
            "remote: Compressing objects: 100% (1/1), done.\u001b[K\n",
            "remote: Total 4 (delta 3), reused 4 (delta 3), pack-reused 0\u001b[K\n",
            "Unpacking objects: 100% (4/4), done.\n",
            "From https://github.com/marcomerc/mtcnn\n",
            "   86bde4a..5664fc4  test       -> origin/test\n",
            "Updating 86bde4a..5664fc4\n",
            "Fast-forward\n",
            " otherModel/test_img.py | 2 \u001b[32m+\u001b[m\u001b[31m-\u001b[m\n",
            " 1 file changed, 1 insertion(+), 1 deletion(-)\n",
            "ModuleNotFoundError: No module named 'numpy.core._multiarray_umath'\n",
            "ModuleNotFoundError: No module named 'numpy.core._multiarray_umath'\n",
            "ModuleNotFoundError: No module named 'numpy.core._multiarray_umath'\n",
            "ModuleNotFoundError: No module named 'numpy.core._multiarray_umath'\n",
            "2019-05-14 17:16:24.486757: I tensorflow/core/platform/profile_utils/cpu_utils.cc:94] CPU Frequency: 2300000000 Hz\n",
            "2019-05-14 17:16:24.487164: I tensorflow/compiler/xla/service/service.cc:150] XLA service 0x19a2840 executing computations on platform Host. Devices:\n",
            "2019-05-14 17:16:24.487233: I tensorflow/compiler/xla/service/service.cc:158]   StreamExecutor device (0): <undefined>, <undefined>\n",
            "WARNING:tensorflow:From /usr/local/lib/python3.6/dist-packages/tensorflow/python/training/saver.py:1266: checkpoint_exists (from tensorflow.python.training.checkpoint_management) is deprecated and will be removed in a future version.\n",
            "Instructions for updating:\n",
            "Use standard file APIs to check for files with this prefix.\n",
            "[0.6, 0.42539999999999994, 0.30160859999999995, 0.21384049739999994, 0.15161291265659996, 0.10749355507352938, 0.07621293054713232, 0.054034967757916816, 0.038310792140363016, 0.027162351627517376, 0.01925810730390982]\n",
            "testing points %f [ 576.4118   838.9066  1018.1324   259.19516  695.174    478.58572]\n",
            "0.7513442039489746\n",
            "<class 'numpy.ndarray'>\n",
            ": cannot connect to X server \n"
          ],
          "name": "stdout"
        }
      ]
    },
    {
      "cell_type": "code",
      "metadata": {
        "id": "bnP_aMOH7uif",
        "colab_type": "code",
        "colab": {}
      },
      "source": [
        "\n"
      ],
      "execution_count": 0,
      "outputs": []
    }
  ]
}